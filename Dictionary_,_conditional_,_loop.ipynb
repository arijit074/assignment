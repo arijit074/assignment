{
  "nbformat": 4,
  "nbformat_minor": 0,
  "metadata": {
    "colab": {
      "provenance": []
    },
    "kernelspec": {
      "name": "python3",
      "display_name": "Python 3"
    },
    "language_info": {
      "name": "python"
    }
  },
  "cells": [
    {
      "cell_type": "code",
      "execution_count": null,
      "metadata": {
        "id": "UvBK8Gl-uJIs"
      },
      "outputs": [],
      "source": [
        "d={}"
      ]
    },
    {
      "cell_type": "code",
      "source": [
        "type(d)"
      ],
      "metadata": {
        "colab": {
          "base_uri": "https://localhost:8080/"
        },
        "id": "EXQ1ivPeuoNw",
        "outputId": "4837e48a-6e6f-46f2-a55b-f5f3046e6e6a"
      },
      "execution_count": null,
      "outputs": [
        {
          "output_type": "execute_result",
          "data": {
            "text/plain": [
              "dict"
            ]
          },
          "metadata": {},
          "execution_count": 2
        }
      ]
    },
    {
      "cell_type": "code",
      "source": [
        "d1={'key':'sudh'}"
      ],
      "metadata": {
        "id": "HrFBKOWMusI6"
      },
      "execution_count": null,
      "outputs": []
    },
    {
      "cell_type": "code",
      "source": [
        "d1"
      ],
      "metadata": {
        "colab": {
          "base_uri": "https://localhost:8080/"
        },
        "id": "gR5DDmZUu4xi",
        "outputId": "2b914c3e-9fd5-4276-f485-8899265150df"
      },
      "execution_count": null,
      "outputs": [
        {
          "output_type": "execute_result",
          "data": {
            "text/plain": [
              "{'key': 'sudh'}"
            ]
          },
          "metadata": {},
          "execution_count": 4
        }
      ]
    },
    {
      "cell_type": "code",
      "source": [
        "d2={\"name\":\"sudhanshu\",\"email\":\"ss@gmail.com\",\"number\":\"334534\"}"
      ],
      "metadata": {
        "id": "KOVhv_O6u6Xb"
      },
      "execution_count": null,
      "outputs": []
    },
    {
      "cell_type": "code",
      "source": [
        "d2"
      ],
      "metadata": {
        "colab": {
          "base_uri": "https://localhost:8080/"
        },
        "id": "Hfbrw8mNvdGk",
        "outputId": "1176dadb-5e70-4590-c12f-8f59deb51e99"
      },
      "execution_count": null,
      "outputs": [
        {
          "output_type": "execute_result",
          "data": {
            "text/plain": [
              "{'name': 'sudhanshu', 'email': 'ss@gmail.com', 'number': '334534'}"
            ]
          },
          "metadata": {},
          "execution_count": 6
        }
      ]
    },
    {
      "cell_type": "code",
      "source": [
        "d3={234:\"sudh\", '@wer':\"kumar\",True:2425}"
      ],
      "metadata": {
        "id": "zSgTC5_bvdtR"
      },
      "execution_count": null,
      "outputs": []
    },
    {
      "cell_type": "code",
      "source": [
        "d3[234]"
      ],
      "metadata": {
        "colab": {
          "base_uri": "https://localhost:8080/",
          "height": 36
        },
        "id": "XQ50GG7cvvaF",
        "outputId": "cd29285d-b218-4c9f-d940-6e9435c1cc3b"
      },
      "execution_count": null,
      "outputs": [
        {
          "output_type": "execute_result",
          "data": {
            "text/plain": [
              "'sudh'"
            ],
            "application/vnd.google.colaboratory.intrinsic+json": {
              "type": "string"
            }
          },
          "metadata": {},
          "execution_count": 4
        }
      ]
    },
    {
      "cell_type": "code",
      "source": [
        "d3[True]"
      ],
      "metadata": {
        "colab": {
          "base_uri": "https://localhost:8080/"
        },
        "id": "3nwibUaKcfhg",
        "outputId": "30ba4166-afab-4edf-9af3-9a2d53b3bc53"
      },
      "execution_count": null,
      "outputs": [
        {
          "output_type": "execute_result",
          "data": {
            "text/plain": [
              "2425"
            ]
          },
          "metadata": {},
          "execution_count": 5
        }
      ]
    },
    {
      "cell_type": "code",
      "source": [
        "d3[1]"
      ],
      "metadata": {
        "colab": {
          "base_uri": "https://localhost:8080/"
        },
        "id": "bg8dSm4Xct8T",
        "outputId": "77f3077b-ea19-4d13-e2d1-317466a58ea0"
      },
      "execution_count": null,
      "outputs": [
        {
          "output_type": "execute_result",
          "data": {
            "text/plain": [
              "2425"
            ]
          },
          "metadata": {},
          "execution_count": 7
        }
      ]
    },
    {
      "cell_type": "code",
      "source": [
        "d4={'name':'sudh','name':'sudhanshu'}"
      ],
      "metadata": {
        "id": "QCokhpTicwuE"
      },
      "execution_count": null,
      "outputs": []
    },
    {
      "cell_type": "code",
      "source": [
        "d4['name']"
      ],
      "metadata": {
        "colab": {
          "base_uri": "https://localhost:8080/",
          "height": 36
        },
        "id": "XROZZtQLeSDW",
        "outputId": "b5598cfe-aa64-484a-9c7e-27cbcb0ee08d"
      },
      "execution_count": null,
      "outputs": [
        {
          "output_type": "execute_result",
          "data": {
            "text/plain": [
              "'sudhanshu'"
            ],
            "application/vnd.google.colaboratory.intrinsic+json": {
              "type": "string"
            }
          },
          "metadata": {},
          "execution_count": 10
        }
      ]
    },
    {
      "cell_type": "code",
      "source": [
        "d5={'company':'pwskills','course':['dsts science',',javaa','c++']}"
      ],
      "metadata": {
        "id": "_VPoSIyxevIk"
      },
      "execution_count": null,
      "outputs": []
    },
    {
      "cell_type": "code",
      "source": [
        "d5['course']"
      ],
      "metadata": {
        "colab": {
          "base_uri": "https://localhost:8080/"
        },
        "id": "iLmjdxmCgbwQ",
        "outputId": "46a8eebe-049a-42cc-a97f-38209b9f392b"
      },
      "execution_count": null,
      "outputs": [
        {
          "output_type": "execute_result",
          "data": {
            "text/plain": [
              "['dsts science', ',javaa', 'c++']"
            ]
          },
          "metadata": {},
          "execution_count": 12
        }
      ]
    },
    {
      "cell_type": "code",
      "source": [
        "d5['course'][2]"
      ],
      "metadata": {
        "colab": {
          "base_uri": "https://localhost:8080/",
          "height": 36
        },
        "id": "gANMKBrcgl7q",
        "outputId": "9c81ea97-6d38-4475-90b5-8da4d083b249"
      },
      "execution_count": null,
      "outputs": [
        {
          "output_type": "execute_result",
          "data": {
            "text/plain": [
              "'c++'"
            ],
            "application/vnd.google.colaboratory.intrinsic+json": {
              "type": "string"
            }
          },
          "metadata": {},
          "execution_count": 14
        }
      ]
    },
    {
      "cell_type": "code",
      "source": [
        "d6={'number':[2,35,4,78],'assignment':(1,3,4,6),'launch date':{22,12,14},'class_time':{'web dev':8,'data':7, 'system design':9}}"
      ],
      "metadata": {
        "id": "AW5cBePLgv6v"
      },
      "execution_count": null,
      "outputs": []
    },
    {
      "cell_type": "code",
      "source": [
        "d6"
      ],
      "metadata": {
        "id": "WWYoCrdZhQP6",
        "colab": {
          "base_uri": "https://localhost:8080/"
        },
        "outputId": "2b4873be-be2c-46dc-ca55-c8e7f38f18c6"
      },
      "execution_count": null,
      "outputs": [
        {
          "output_type": "execute_result",
          "data": {
            "text/plain": [
              "{'number': [2, 35, 4, 78],\n",
              " 'assignment': (1, 3, 4, 6),\n",
              " 'launch date': {12, 14, 22},\n",
              " 'class_time': {'web dev': 8, 'data': 7, 'system design': 9}}"
            ]
          },
          "metadata": {},
          "execution_count": 4
        }
      ]
    },
    {
      "cell_type": "code",
      "source": [
        "d6['class_time']['data']"
      ],
      "metadata": {
        "colab": {
          "base_uri": "https://localhost:8080/"
        },
        "id": "3Q_aSgYIPx6M",
        "outputId": "89136caf-0cc1-471b-ea68-ea6f0f462c6c"
      },
      "execution_count": null,
      "outputs": [
        {
          "output_type": "execute_result",
          "data": {
            "text/plain": [
              "7"
            ]
          },
          "metadata": {},
          "execution_count": 5
        }
      ]
    },
    {
      "cell_type": "code",
      "source": [
        "d6['mentor']=['sudhanshu','krish']"
      ],
      "metadata": {
        "id": "NbHUv9K7Qwyt"
      },
      "execution_count": null,
      "outputs": []
    },
    {
      "cell_type": "code",
      "source": [
        "d6"
      ],
      "metadata": {
        "colab": {
          "base_uri": "https://localhost:8080/"
        },
        "id": "ijTgmroUSLcZ",
        "outputId": "83f6ad61-7948-4cc8-db91-c32df1394cbd"
      },
      "execution_count": null,
      "outputs": [
        {
          "output_type": "execute_result",
          "data": {
            "text/plain": [
              "{'number': [2, 35, 4, 78],\n",
              " 'assignment': (1, 3, 4, 6),\n",
              " 'launch date': {12, 14, 22},\n",
              " 'class_time': {'web dev': 8, 'data': 7, 'system design': 9},\n",
              " 'mentor': ['sudhanshu', 'krish']}"
            ]
          },
          "metadata": {},
          "execution_count": 9
        }
      ]
    },
    {
      "cell_type": "code",
      "source": [
        "del d6['number']"
      ],
      "metadata": {
        "id": "ww-P0h7wSjZs"
      },
      "execution_count": null,
      "outputs": []
    },
    {
      "cell_type": "code",
      "source": [
        "d6"
      ],
      "metadata": {
        "colab": {
          "base_uri": "https://localhost:8080/"
        },
        "id": "UL6r3a5wS1NI",
        "outputId": "fae82d8d-8376-4de9-a5ef-c958c2775285"
      },
      "execution_count": null,
      "outputs": [
        {
          "output_type": "execute_result",
          "data": {
            "text/plain": [
              "{'assignment': (1, 3, 4, 6),\n",
              " 'launch date': {12, 14, 22},\n",
              " 'class_time': {'web dev': 8, 'data': 7, 'system design': 9},\n",
              " 'mentor': ['sudhanshu', 'krish']}"
            ]
          },
          "metadata": {},
          "execution_count": 11
        }
      ]
    },
    {
      "cell_type": "code",
      "source": [
        "d6.keys()"
      ],
      "metadata": {
        "colab": {
          "base_uri": "https://localhost:8080/"
        },
        "id": "em9XSXSMS2fb",
        "outputId": "645205db-2c48-48fc-d974-39f76193a1e6"
      },
      "execution_count": null,
      "outputs": [
        {
          "output_type": "execute_result",
          "data": {
            "text/plain": [
              "dict_keys(['assignment', 'launch date', 'class_time', 'mentor'])"
            ]
          },
          "metadata": {},
          "execution_count": 12
        }
      ]
    },
    {
      "cell_type": "code",
      "source": [
        "list(d6.keys())"
      ],
      "metadata": {
        "colab": {
          "base_uri": "https://localhost:8080/"
        },
        "id": "zFqVIukLTcbo",
        "outputId": "02960e99-ba03-43bd-bae7-0881acf7a7a8"
      },
      "execution_count": null,
      "outputs": [
        {
          "output_type": "execute_result",
          "data": {
            "text/plain": [
              "['assignment', 'launch date', 'class_time', 'mentor']"
            ]
          },
          "metadata": {},
          "execution_count": 13
        }
      ]
    },
    {
      "cell_type": "code",
      "source": [
        "d6.values()"
      ],
      "metadata": {
        "colab": {
          "base_uri": "https://localhost:8080/"
        },
        "id": "AJ4V3ER5UCAy",
        "outputId": "a00a4b0e-ad69-4c4a-dc32-8781e1e41479"
      },
      "execution_count": null,
      "outputs": [
        {
          "output_type": "execute_result",
          "data": {
            "text/plain": [
              "dict_values([(1, 3, 4, 6), {12, 22, 14}, {'web dev': 8, 'data': 7, 'system design': 9}, ['sudhanshu', 'krish']])"
            ]
          },
          "metadata": {},
          "execution_count": 14
        }
      ]
    },
    {
      "cell_type": "code",
      "source": [
        "list(d6.values())"
      ],
      "metadata": {
        "colab": {
          "base_uri": "https://localhost:8080/"
        },
        "id": "uKyCMnoZUMvm",
        "outputId": "028672e5-01ee-48f8-8714-9ce14346a66b"
      },
      "execution_count": null,
      "outputs": [
        {
          "output_type": "execute_result",
          "data": {
            "text/plain": [
              "[(1, 3, 4, 6),\n",
              " {12, 14, 22},\n",
              " {'web dev': 8, 'data': 7, 'system design': 9},\n",
              " ['sudhanshu', 'krish']]"
            ]
          },
          "metadata": {},
          "execution_count": 21
        }
      ]
    },
    {
      "cell_type": "code",
      "source": [
        "d6.items()"
      ],
      "metadata": {
        "colab": {
          "base_uri": "https://localhost:8080/"
        },
        "id": "s4SjIVTTUUns",
        "outputId": "1c7a268e-9b99-4c38-8273-4b11388823a0"
      },
      "execution_count": null,
      "outputs": [
        {
          "output_type": "execute_result",
          "data": {
            "text/plain": [
              "dict_items([('assignment', (1, 3, 4, 6)), ('launch date', {12, 22, 14}), ('class_time', {'web dev': 8, 'data': 7, 'system design': 9}), ('mentor', ['sudhanshu', 'krish'])])"
            ]
          },
          "metadata": {},
          "execution_count": 22
        }
      ]
    },
    {
      "cell_type": "code",
      "source": [
        "list(d6.items())"
      ],
      "metadata": {
        "colab": {
          "base_uri": "https://localhost:8080/"
        },
        "id": "J8e0pBtTVxDE",
        "outputId": "5a50299a-07a2-4f03-fee2-dde41d51ccd5"
      },
      "execution_count": null,
      "outputs": [
        {
          "output_type": "execute_result",
          "data": {
            "text/plain": [
              "[('assignment', (1, 3, 4, 6)),\n",
              " ('launch date', {12, 14, 22}),\n",
              " ('class_time', {'web dev': 8, 'data': 7, 'system design': 9}),\n",
              " ('mentor', ['sudhanshu', 'krish'])]"
            ]
          },
          "metadata": {},
          "execution_count": 23
        }
      ]
    },
    {
      "cell_type": "code",
      "source": [
        "tuple(d6.items())"
      ],
      "metadata": {
        "colab": {
          "base_uri": "https://localhost:8080/"
        },
        "id": "NfZnz4lxWAgf",
        "outputId": "c849ef31-b7c3-4858-fca5-75a0a42eda53"
      },
      "execution_count": null,
      "outputs": [
        {
          "output_type": "execute_result",
          "data": {
            "text/plain": [
              "(('assignment', (1, 3, 4, 6)),\n",
              " ('launch date', {12, 14, 22}),\n",
              " ('class_time', {'web dev': 8, 'data': 7, 'system design': 9}),\n",
              " ('mentor', ['sudhanshu', 'krish']))"
            ]
          },
          "metadata": {},
          "execution_count": 24
        }
      ]
    },
    {
      "cell_type": "code",
      "source": [
        "d6.pop('assignment')"
      ],
      "metadata": {
        "colab": {
          "base_uri": "https://localhost:8080/"
        },
        "id": "_9yMooV7XSMv",
        "outputId": "30873bee-a7e7-4efd-b02d-d9b38d4955a0"
      },
      "execution_count": null,
      "outputs": [
        {
          "output_type": "execute_result",
          "data": {
            "text/plain": [
              "(1, 3, 4, 6)"
            ]
          },
          "metadata": {},
          "execution_count": 25
        }
      ]
    },
    {
      "cell_type": "code",
      "source": [
        "d6"
      ],
      "metadata": {
        "id": "bjf0LuA3dwqR",
        "outputId": "42e56148-91b1-40bb-bbb2-0cd53a221b3e",
        "colab": {
          "base_uri": "https://localhost:8080/"
        }
      },
      "execution_count": null,
      "outputs": [
        {
          "output_type": "execute_result",
          "data": {
            "text/plain": [
              "{'launch date': {12, 14, 22},\n",
              " 'class_time': {'web dev': 8, 'data': 7, 'system design': 9},\n",
              " 'mentor': ['sudhanshu', 'krish']}"
            ]
          },
          "metadata": {},
          "execution_count": 26
        }
      ]
    },
    {
      "cell_type": "code",
      "source": [
        "d6.pop()"
      ],
      "metadata": {
        "colab": {
          "base_uri": "https://localhost:8080/",
          "height": 175
        },
        "id": "Szj2JzBxaqoQ",
        "outputId": "080aec08-7743-4471-f592-cfd1faad7afc"
      },
      "execution_count": null,
      "outputs": [
        {
          "output_type": "error",
          "ename": "TypeError",
          "evalue": "ignored",
          "traceback": [
            "\u001b[0;31m---------------------------------------------------------------------------\u001b[0m",
            "\u001b[0;31mTypeError\u001b[0m                                 Traceback (most recent call last)",
            "\u001b[0;32m<ipython-input-7-17a2120228e0>\u001b[0m in \u001b[0;36m<cell line: 1>\u001b[0;34m()\u001b[0m\n\u001b[0;32m----> 1\u001b[0;31m \u001b[0md6\u001b[0m\u001b[0;34m.\u001b[0m\u001b[0mpop\u001b[0m\u001b[0;34m(\u001b[0m\u001b[0;34m)\u001b[0m\u001b[0;34m\u001b[0m\u001b[0;34m\u001b[0m\u001b[0m\n\u001b[0m",
            "\u001b[0;31mTypeError\u001b[0m: pop expected at least 1 argument, got 0"
          ]
        }
      ]
    },
    {
      "cell_type": "code",
      "source": [
        "marks = int(input(\"input your marks\"))\n",
        "if marks >= 80:\n",
        "  print('you will be a part of A0 Batch')\n",
        "elif marks >= 60 and marks<80 :\n",
        "  print(\"you will be a part of A1 batch\")\n",
        "elif  marks >=40 and marks<60:\n",
        "  print(\"you will be a part of A2 batch\")\n",
        "else :\n",
        "  print(\"you will be a part of A3 Batch\")\n"
      ],
      "metadata": {
        "colab": {
          "base_uri": "https://localhost:8080/"
        },
        "id": "mOE59rMqbmYQ",
        "outputId": "c81511c6-cbf8-41b5-b5d4-25d1716cab07"
      },
      "execution_count": null,
      "outputs": [
        {
          "output_type": "stream",
          "name": "stdout",
          "text": [
            "input your marks90\n",
            "you will be a part of A0 Batch\n"
          ]
        }
      ]
    },
    {
      "cell_type": "code",
      "source": [
        "marks = int(input(\"input your marks\"))\n",
        "if marks >= 80:\n",
        "  print('you will be a part of A0 Batch')\n",
        "elif marks >= 60 and marks<80 :\n",
        "  print(\"you will be a part of A1 batch\")\n",
        "elif  marks >=40 and marks<60:\n",
        "  print(\"you will be a part of A2 batch\")\n",
        "else :\n",
        "  print(\"you will be a part of A3 Batch\")\n"
      ],
      "metadata": {
        "id": "MxXeHcODdmF1",
        "colab": {
          "base_uri": "https://localhost:8080/"
        },
        "outputId": "1e0753ed-621a-47cb-dc81-5650fd12b945"
      },
      "execution_count": null,
      "outputs": [
        {
          "output_type": "stream",
          "name": "stdout",
          "text": [
            "input your marks-10\n",
            "you will be a part of A3 Batch\n"
          ]
        }
      ]
    },
    {
      "cell_type": "code",
      "source": [
        "price=int(input(\"enter price \"))\n",
        "if price>1000:\n",
        "  print('i will not purchase')\n",
        "else:\n",
        "  print(\"i will purchase\")"
      ],
      "metadata": {
        "colab": {
          "base_uri": "https://localhost:8080/"
        },
        "id": "cn7LPwbGYZpC",
        "outputId": "d1d5b752-3312-41cc-8185-5b3e83ffcefa"
      },
      "execution_count": null,
      "outputs": [
        {
          "output_type": "stream",
          "name": "stdout",
          "text": [
            "enter price 500\n",
            "i will purchase\n"
          ]
        }
      ]
    },
    {
      "cell_type": "code",
      "source": [
        "price=int(input(\"enter price \"))\n",
        "if price>1000:\n",
        "  print('i will not purchase')\n",
        "else:\n",
        "  print(\"i will purchase\")"
      ],
      "metadata": {
        "colab": {
          "base_uri": "https://localhost:8080/"
        },
        "id": "S1Ytot3hZuEF",
        "outputId": "65ccc2f6-de2f-4b60-9476-b8e6e4625c37"
      },
      "execution_count": null,
      "outputs": [
        {
          "output_type": "stream",
          "name": "stdout",
          "text": [
            "enter price 1500\n",
            "i will not purchase\n"
          ]
        }
      ]
    },
    {
      "cell_type": "code",
      "source": [
        "price=int(input(\"enter price \"))\n",
        "if price>1000:\n",
        "  print('i will not purchase')\n",
        "  if price>5000:\n",
        "    print(\"this is too much\")\n"
      ],
      "metadata": {
        "colab": {
          "base_uri": "https://localhost:8080/"
        },
        "id": "bdHvz8YRa2ZL",
        "outputId": "682b3db0-7ce9-4b52-92e2-96cae3efce59"
      },
      "execution_count": null,
      "outputs": [
        {
          "output_type": "stream",
          "name": "stdout",
          "text": [
            "enter price 2000\n",
            "i will not purchase\n"
          ]
        }
      ]
    },
    {
      "cell_type": "code",
      "source": [
        "price=int(input(\"enter price \"))\n",
        "if price>1000:\n",
        "  print('i will not purchase')\n",
        "  if price>5000:\n",
        "    print(\"this is too much\")\n",
        "  elif price<2000:\n",
        "    print(\"its okay\")\n",
        "elif price<1000:\n",
        "  print(\"i will purchase\")\n",
        "else:\n",
        "  print(\"not interested\")\n"
      ],
      "metadata": {
        "colab": {
          "base_uri": "https://localhost:8080/"
        },
        "id": "HlHKPaUCcuRd",
        "outputId": "05f785ce-2ce6-42da-cf4c-804c66424a77"
      },
      "execution_count": null,
      "outputs": [
        {
          "output_type": "stream",
          "name": "stdout",
          "text": [
            "enter price 500\n",
            "i will purchase\n"
          ]
        }
      ]
    },
    {
      "cell_type": "code",
      "source": [
        "price=int(input(\"enter price \"))\n",
        "if price>1000:\n",
        "  print('i will not purchase')\n",
        "  if price>5000:\n",
        "    print(\"this is too much\")\n",
        "  elif price<2000:\n",
        "    print(\"its okay\")\n",
        "elif price<1000:\n",
        "  print(\"i will purchase\")\n",
        "else:\n",
        "  print(\"not interested\")\n"
      ],
      "metadata": {
        "colab": {
          "base_uri": "https://localhost:8080/"
        },
        "id": "9MFKZb9Eczae",
        "outputId": "97df08db-2373-4910-a26a-c07ffec1d11b"
      },
      "execution_count": null,
      "outputs": [
        {
          "output_type": "stream",
          "name": "stdout",
          "text": [
            "enter price 1000\n",
            "not interested\n"
          ]
        }
      ]
    },
    {
      "cell_type": "code",
      "source": [
        "l = [1,2,3,4,5,6,7,8]"
      ],
      "metadata": {
        "id": "6h40fgPNfyQ0"
      },
      "execution_count": null,
      "outputs": []
    },
    {
      "cell_type": "code",
      "source": [
        "l[0] +1"
      ],
      "metadata": {
        "colab": {
          "base_uri": "https://localhost:8080/"
        },
        "id": "tWDMDuaKWCQN",
        "outputId": "da626246-64f2-4eb5-ee9a-7802059f6742"
      },
      "execution_count": null,
      "outputs": [
        {
          "output_type": "execute_result",
          "data": {
            "text/plain": [
              "2"
            ]
          },
          "metadata": {},
          "execution_count": 4
        }
      ]
    },
    {
      "cell_type": "code",
      "source": [
        "l1=[]"
      ],
      "metadata": {
        "id": "Wi1qTt2-Wa-j"
      },
      "execution_count": null,
      "outputs": []
    },
    {
      "cell_type": "code",
      "source": [
        "l1.append(l[0] +1)"
      ],
      "metadata": {
        "id": "pdIwSXyUWlnX"
      },
      "execution_count": null,
      "outputs": []
    },
    {
      "cell_type": "code",
      "source": [
        "l1"
      ],
      "metadata": {
        "colab": {
          "base_uri": "https://localhost:8080/"
        },
        "id": "DpesPjHaW21e",
        "outputId": "cbb6a8f8-8ad2-44a6-da1a-9ac94ab00fa9"
      },
      "execution_count": null,
      "outputs": [
        {
          "output_type": "execute_result",
          "data": {
            "text/plain": [
              "[2]"
            ]
          },
          "metadata": {},
          "execution_count": 7
        }
      ]
    },
    {
      "cell_type": "code",
      "source": [
        "l = [1,2,3,4,5,6,7,8]"
      ],
      "metadata": {
        "id": "6FpW7f8YW6sG"
      },
      "execution_count": 1,
      "outputs": []
    },
    {
      "cell_type": "code",
      "source": [
        "l1=[]\n",
        "for i in l :\n",
        "  print(i+1)\n",
        "  l1.append(i+1)"
      ],
      "metadata": {
        "colab": {
          "base_uri": "https://localhost:8080/"
        },
        "id": "meaGKAo6Zgt2",
        "outputId": "ffd7c835-bb28-4cde-953e-0b5f4179ab8c"
      },
      "execution_count": 2,
      "outputs": [
        {
          "output_type": "stream",
          "name": "stdout",
          "text": [
            "2\n",
            "3\n",
            "4\n",
            "5\n",
            "6\n",
            "7\n",
            "8\n",
            "9\n"
          ]
        }
      ]
    },
    {
      "cell_type": "code",
      "source": [
        "l1"
      ],
      "metadata": {
        "colab": {
          "base_uri": "https://localhost:8080/"
        },
        "id": "qfzi2NV6q-xS",
        "outputId": "cf0f854c-f8fa-4942-8514-421877fee533"
      },
      "execution_count": 3,
      "outputs": [
        {
          "output_type": "execute_result",
          "data": {
            "text/plain": [
              "[2, 3, 4, 5, 6, 7, 8, 9]"
            ]
          },
          "metadata": {},
          "execution_count": 3
        }
      ]
    },
    {
      "cell_type": "code",
      "source": [
        "l=[\"sudh\",\"kumar\",\"pwskills\",\"course\"]"
      ],
      "metadata": {
        "id": "6KqCx_EOrzd4"
      },
      "execution_count": 4,
      "outputs": []
    },
    {
      "cell_type": "code",
      "source": [
        "l1=[]\n",
        "for i in l :\n",
        "  print (i)\n",
        "  l1.append(i.upper())"
      ],
      "metadata": {
        "colab": {
          "base_uri": "https://localhost:8080/"
        },
        "id": "I9fBLzU9iqSy",
        "outputId": "c64a559a-27be-4ce3-93b4-1d2af6f6922f"
      },
      "execution_count": 6,
      "outputs": [
        {
          "output_type": "stream",
          "name": "stdout",
          "text": [
            "sudh\n",
            "kumar\n",
            "pwskills\n",
            "course\n"
          ]
        }
      ]
    },
    {
      "cell_type": "code",
      "source": [
        "l1"
      ],
      "metadata": {
        "colab": {
          "base_uri": "https://localhost:8080/"
        },
        "id": "HZ8wBKiLi2YX",
        "outputId": "98f3519e-1131-42d0-d8d4-049ad44f858b"
      },
      "execution_count": 7,
      "outputs": [
        {
          "output_type": "execute_result",
          "data": {
            "text/plain": [
              "['SUDH', 'KUMAR', 'PWSKILLS', 'COURSE']"
            ]
          },
          "metadata": {},
          "execution_count": 7
        }
      ]
    },
    {
      "cell_type": "code",
      "source": [
        "l=[1,2,3,4,4,\"sudh\",\"kumar\",324,34.456,\"abc\"]"
      ],
      "metadata": {
        "id": "1immW0ZWkSe_"
      },
      "execution_count": 13,
      "outputs": []
    },
    {
      "cell_type": "code",
      "source": [
        "l1_num=[]\n",
        "l2_str=[]\n",
        "for i in l :\n",
        "  if type(i) ==int or type(i) ==float :\n",
        "    l1_num.append(i)\n",
        "  else :\n",
        "    l2_str.append(i)"
      ],
      "metadata": {
        "id": "l8efT8bVkw8i"
      },
      "execution_count": 16,
      "outputs": []
    },
    {
      "cell_type": "code",
      "source": [
        "l1_num"
      ],
      "metadata": {
        "colab": {
          "base_uri": "https://localhost:8080/"
        },
        "id": "pZK_F6vOmQDq",
        "outputId": "20ff2522-19bd-44c0-8383-02f3e77381cf"
      },
      "execution_count": 17,
      "outputs": [
        {
          "output_type": "execute_result",
          "data": {
            "text/plain": [
              "[1, 2, 3, 4, 4, 324, 34.456]"
            ]
          },
          "metadata": {},
          "execution_count": 17
        }
      ]
    },
    {
      "cell_type": "code",
      "source": [
        "l2_str"
      ],
      "metadata": {
        "colab": {
          "base_uri": "https://localhost:8080/"
        },
        "id": "iFhzi_ZqmTGJ",
        "outputId": "7acb25a0-97af-488e-eb42-c8dfb66833f7"
      },
      "execution_count": 18,
      "outputs": [
        {
          "output_type": "execute_result",
          "data": {
            "text/plain": [
              "['sudh', 'kumar', 'abc']"
            ]
          },
          "metadata": {},
          "execution_count": 18
        }
      ]
    },
    {
      "cell_type": "code",
      "source": [],
      "metadata": {
        "id": "jBRbIshTmf6d"
      },
      "execution_count": null,
      "outputs": []
    }
  ]
}